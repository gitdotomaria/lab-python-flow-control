{
 "cells": [
  {
   "cell_type": "markdown",
   "id": "d3bfc191-8885-42ee-b0a0-bbab867c6f9f",
   "metadata": {
    "tags": []
   },
   "source": [
    "# Lab | Flow Control"
   ]
  },
  {
   "cell_type": "markdown",
   "id": "3851fcd1-cf98-4653-9c89-e003b7ec9400",
   "metadata": {},
   "source": [
    "## Exercise: Managing Customer Orders Optimized\n",
    "\n",
    "In the last lab, you were starting an online store that sells various products. To ensure smooth operations, you developed a program that manages customer orders and inventory.\n",
    "\n",
    "You did so without using flow control. Let's go a step further and improve this code.\n",
    "\n",
    "Follow the steps below to complete the exercise:\n",
    "\n",
    "1. Look at your code from the lab data structures, and improve repeated code with loops.\n",
    "\n",
    "2. Instead of asking the user to input the name of three products that a customer wants to order, do the following:\n",
    "    \n",
    "    a. Prompt the user to enter the name of a product that a customer wants to order.\n",
    "    \n",
    "    b. Add the product name to the \"customer_orders\" set.\n",
    "    \n",
    "    c. Ask the user if they want to add another product (yes/no).\n",
    "    \n",
    "    d. Continue the loop until the user does not want to add another product.\n",
    "\n",
    "3. Instead of updating the inventory by subtracting 1 from the quantity of each product, only do it for  the products that were ordered (those in \"customer_orders\")."
   ]
  },
  {
   "cell_type": "code",
   "execution_count": 1,
   "id": "445110d0",
   "metadata": {},
   "outputs": [
    {
     "name": "stdout",
     "output_type": "stream",
     "text": [
      "Please enter the quantity of t-shirt: 5\n",
      "Please enter the quantity of mug: 5\n",
      "Please enter the quantity of hat: 5\n",
      "Please enter the quantity of book: 5\n",
      "Please enter the quantity of keychain: 5\n"
     ]
    },
    {
     "data": {
      "text/plain": [
       "{'t-shirt': 5, 'mug': 5, 'hat': 5, 'book': 5, 'keychain': 5}"
      ]
     },
     "execution_count": 1,
     "metadata": {},
     "output_type": "execute_result"
    }
   ],
   "source": [
    "products = [\"t-shirt\", \"mug\", \"hat\", \"book\", \"keychain\"]\n",
    "quantities = {} \n",
    "\n",
    "for i in products:\n",
    "    quantities[i] = int(input(f\"Please enter the quantity of {i}: \"))\n",
    "    \n",
    "quantities"
   ]
  },
  {
   "cell_type": "code",
   "execution_count": 2,
   "id": "5ee73cac",
   "metadata": {},
   "outputs": [
    {
     "data": {
      "text/plain": [
       "set"
      ]
     },
     "execution_count": 2,
     "metadata": {},
     "output_type": "execute_result"
    }
   ],
   "source": [
    "customer_orders = set({})\n",
    "type(customer_orders)"
   ]
  },
  {
   "cell_type": "code",
   "execution_count": 3,
   "id": "e5ff2fcb",
   "metadata": {},
   "outputs": [],
   "source": [
    "total_products_ordered = len(customer_orders)"
   ]
  },
  {
   "cell_type": "code",
   "execution_count": 4,
   "id": "151598de",
   "metadata": {},
   "outputs": [],
   "source": [
    "percent_of_prod_ordered = (len(customer_orders) / len(quantities)) * 100"
   ]
  },
  {
   "cell_type": "code",
   "execution_count": 5,
   "id": "e143d20e",
   "metadata": {},
   "outputs": [
    {
     "name": "stdout",
     "output_type": "stream",
     "text": [
      "Do you want to buy a product? hat\n",
      "Error, please only type 'yes' or 'no'\n",
      "Do you want to buy a product? yes\n",
      "Please, enter the name of the product you want to order: mug\n",
      "Do you want to add another product? 'yes' or 'no': yes\n",
      "Please, enter the name of the product you want to order: book\n",
      "Do you want to add another product? 'yes' or 'no': no\n"
     ]
    },
    {
     "data": {
      "text/plain": [
       "{'book', 'mug'}"
      ]
     },
     "execution_count": 5,
     "metadata": {},
     "output_type": "execute_result"
    }
   ],
   "source": [
    "\"\"\"name_of_product = input(\"Please, enter the name of the product you want to order: \")\n",
    "if name_of_product in quantities.keys():\n",
    "        customer_orders.add(name_of_product)\n",
    "else:\n",
    "       print(\"Sorry, we do not have that product\")\n",
    "        \n",
    "another = input(\"Do you want to add another product? 'yes' or 'no': \")\n",
    "\n",
    "while another != \"yes\" and another != \"no\":\n",
    "    print(\"Error, please only type 'yes' or 'no'\")\n",
    "    another = input(\"Do you want to add another product? 'yes' or 'no': \")\n",
    "\n",
    "while another == 'yes':\n",
    "    name_of_product = input(\"Please, enter the name of the product you want to order: \")\n",
    "    if name_of_product in quantities.keys():\n",
    "        customer_orders.add(name_of_product)\n",
    "    else:\n",
    "        print(\"Sorry, we do not have that product\")\n",
    "    another = input(\"Do you want to add another product? 'yes' or 'no': \")\n",
    "    \n",
    "    \n",
    "        \n",
    "customer_orders\"\"\"\n",
    "question = input(\"Do you want to buy a product? \")\n",
    "\n",
    "while question != \"yes\" and question != \"no\":\n",
    "    print(\"Error, please only type 'yes' or 'no'\")\n",
    "    question = input(\"Do you want to buy a product? \")\n",
    "    \n",
    "while question == 'yes':\n",
    "    name_of_product = input(\"Please, enter the name of the product you want to order: \")\n",
    "    if name_of_product in quantities.keys():\n",
    "        customer_orders.add(name_of_product)\n",
    "    else:\n",
    "        print(\"Sorry, we do not have that product\")\n",
    "    question = input(\"Do you want to add another product? 'yes' or 'no': \")\n",
    "    \n",
    "customer_orders"
   ]
  },
  {
   "cell_type": "code",
   "execution_count": 6,
   "id": "54279efc",
   "metadata": {},
   "outputs": [
    {
     "name": "stdout",
     "output_type": "stream",
     "text": [
      "{'t-shirt': 5, 'mug': 4, 'hat': 5, 'book': 4, 'keychain': 5}\n"
     ]
    }
   ],
   "source": [
    "for i in customer_orders:\n",
    "        quantities[i] -= 1\n",
    "\n",
    "print(quantities)"
   ]
  }
 ],
 "metadata": {
  "kernelspec": {
   "display_name": "Python 3 (ipykernel)",
   "language": "python",
   "name": "python3"
  },
  "language_info": {
   "codemirror_mode": {
    "name": "ipython",
    "version": 3
   },
   "file_extension": ".py",
   "mimetype": "text/x-python",
   "name": "python",
   "nbconvert_exporter": "python",
   "pygments_lexer": "ipython3",
   "version": "3.9.19"
  }
 },
 "nbformat": 4,
 "nbformat_minor": 5
}
